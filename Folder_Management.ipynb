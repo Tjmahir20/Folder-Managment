{
 "cells": [
  {
   "cell_type": "code",
   "execution_count": 21,
   "id": "4a23104a-4b23-450a-bdef-6594e7e7ce33",
   "metadata": {
    "tags": []
   },
   "outputs": [],
   "source": [
    "import os\n",
    "import shutil"
   ]
  },
  {
   "cell_type": "markdown",
   "id": "d12cf481-0fa6-42ba-a315-d5306f9cd4ad",
   "metadata": {},
   "source": [
    "## Files with specific *Extensions* and their *Directory*"
   ]
  },
  {
   "cell_type": "code",
   "execution_count": 15,
   "id": "1022b532-fa4d-45c9-8a17-b5923b4a42fd",
   "metadata": {
    "tags": []
   },
   "outputs": [],
   "source": [
    "folder_Path = \"./Data/\"\n",
    "extension = \".shp\""
   ]
  },
  {
   "cell_type": "code",
   "execution_count": 16,
   "id": "743dfe86-587c-4427-a021-225f2d9d0649",
   "metadata": {
    "tags": []
   },
   "outputs": [
    {
     "data": {
      "text/plain": [
       "['./Data/S1A_IW_SLC__1SDV_20210401T172512_20210401T172539_037260_04639A_A012_FID05647370_IW1_31UES_proj.shp',\n",
       " './Data/S1A_IW_SLC__1SDV_20210401T172512_20210401T172539_037260_04639A_A012_FID05647370_IW1_31UET_proj.shp',\n",
       " './Data/S1A_IW_SLC__1SDV_20210401T172512_20210401T172539_037260_04639A_A012_FID05647370_IW1_31UFU_proj.shp']"
      ]
     },
     "execution_count": 16,
     "metadata": {},
     "output_type": "execute_result"
    }
   ],
   "source": [
    "files = []\n",
    "file_path = []\n",
    "\n",
    "items = os.listdir(folder_Path)\n",
    "\n",
    "for names in items:\n",
    "    if names.endswith(extension):\n",
    "        files.append(names)\n",
    "        \n",
    "for i in Polygon_shp:\n",
    "    x = folder_Path + i\n",
    "    file_path.append(x)\n",
    "\n",
    "file_path"
   ]
  },
  {
   "cell_type": "markdown",
   "id": "eadec329-fa5e-47a2-a2b1-e584deb86a77",
   "metadata": {},
   "source": [
    "## Listing our Files with Same Prefix but different extensions"
   ]
  },
  {
   "cell_type": "code",
   "execution_count": 48,
   "id": "3f9894c5-632d-4d8f-bfe7-5e108f57f022",
   "metadata": {
    "tags": []
   },
   "outputs": [
    {
     "data": {
      "text/plain": [
       "['S1A_IW_SLC__1SDV_20210401T172512_20210401T172539_037260_04639A_A012_FID05647370_IW1_31UES_proj',\n",
       " 'S1A_IW_SLC__1SDV_20210401T172512_20210401T172539_037260_04639A_A012_FID05647370_IW1_31UET_proj',\n",
       " 'S1A_IW_SLC__1SDV_20210401T172512_20210401T172539_037260_04639A_A012_FID05647370_IW1_31UFU_proj']"
      ]
     },
     "execution_count": 48,
     "metadata": {},
     "output_type": "execute_result"
    }
   ],
   "source": [
    "folder_Path = \"./Data/\"\n",
    "list_of_files = os.listdir(folder_Path) #list of files in the current directory\n",
    "\n",
    "x = []      \n",
    "extension = \".dbf\"      \n",
    "for names in list_of_files:\n",
    "    if names.endswith(extension):\n",
    "        x.append(names)\n",
    "\n",
    "file_names = []\n",
    "for i in x:\n",
    "    y = i.split(\".\")[0]\n",
    "    file_names.append(y)\n",
    "file_names"
   ]
  },
  {
   "cell_type": "code",
   "execution_count": 51,
   "id": "8899961a-46f0-4d5e-bea5-48baec3c21c9",
   "metadata": {
    "tags": []
   },
   "outputs": [
    {
     "name": "stdout",
     "output_type": "stream",
     "text": [
      "S1A_IW_SLC__1SDV_20210401T172512_20210401T172539_037260_04639A_A012_FID05647370_IW1_31UES_proj.dbf\n",
      "S1A_IW_SLC__1SDV_20210401T172512_20210401T172539_037260_04639A_A012_FID05647370_IW1_31UES_proj.pix\n",
      "S1A_IW_SLC__1SDV_20210401T172512_20210401T172539_037260_04639A_A012_FID05647370_IW1_31UES_proj.prj\n",
      "S1A_IW_SLC__1SDV_20210401T172512_20210401T172539_037260_04639A_A012_FID05647370_IW1_31UES_proj.shp\n",
      "S1A_IW_SLC__1SDV_20210401T172512_20210401T172539_037260_04639A_A012_FID05647370_IW1_31UES_proj.shx\n"
     ]
    }
   ],
   "source": [
    "prefix = \"S1A_IW_SLC__1SDV_20210401T172512_20210401T172539_037260_04639A_A012_FID05647370_IW1_31UES_proj\"\n",
    "File_list = []\n",
    "\n",
    "for each_file in list_of_files:\n",
    "    if each_file.startswith(prefix):  #since its all type str you can simply use startswith\n",
    "        print (each_file)\n",
    "        File_list.append(each_file)"
   ]
  },
  {
   "cell_type": "markdown",
   "id": "9ff7dff1-4323-4335-b489-92dc0602e64f",
   "metadata": {},
   "source": [
    "## Copying files from one directory to another\n",
    "The target file can be a Directory or File name with Extension"
   ]
  },
  {
   "cell_type": "code",
   "execution_count": 28,
   "id": "91f227f2-b353-4be5-b001-792dde73f38b",
   "metadata": {
    "tags": []
   },
   "outputs": [],
   "source": [
    "source = file_path[-1]\n",
    "target = \"./Experiment/\"\n",
    "# target = \"./Experiment/S1A_IW_SLC__1SDV_20210401T172512_20210401T172539_037260_04639A_A012_FID05647370_IW1_31UES_proj.shp\""
   ]
  },
  {
   "cell_type": "code",
   "execution_count": 27,
   "id": "b087e736-300d-4e01-ab1f-bfa7ab6678c3",
   "metadata": {
    "tags": []
   },
   "outputs": [
    {
     "data": {
      "text/plain": [
       "'./Experiment/S1A_IW_SLC__1SDV_20210401T172512_20210401T172539_037260_04639A_A012_FID05647370_IW1_31UET_proj.shp'"
      ]
     },
     "execution_count": 27,
     "metadata": {},
     "output_type": "execute_result"
    }
   ],
   "source": [
    "shutil.copy2(source, target)"
   ]
  },
  {
   "cell_type": "markdown",
   "id": "2c7ae56c-5090-478c-af43-660658998e12",
   "metadata": {},
   "source": [
    "## Moving files to another Folder"
   ]
  },
  {
   "cell_type": "code",
   "execution_count": 29,
   "id": "2780eab1-49ea-48fe-ab2b-623170381d36",
   "metadata": {
    "tags": []
   },
   "outputs": [
    {
     "data": {
      "text/plain": [
       "'./Experiment/S1A_IW_SLC__1SDV_20210401T172512_20210401T172539_037260_04639A_A012_FID05647370_IW1_31UFU_proj.shp'"
      ]
     },
     "execution_count": 29,
     "metadata": {},
     "output_type": "execute_result"
    }
   ],
   "source": [
    "shutil.move(source, target)"
   ]
  }
 ],
 "metadata": {
  "kernelspec": {
   "display_name": "Python 3 (ipykernel)",
   "language": "python",
   "name": "python3"
  },
  "language_info": {
   "codemirror_mode": {
    "name": "ipython",
    "version": 3
   },
   "file_extension": ".py",
   "mimetype": "text/x-python",
   "name": "python",
   "nbconvert_exporter": "python",
   "pygments_lexer": "ipython3",
   "version": "3.11.5"
  }
 },
 "nbformat": 4,
 "nbformat_minor": 5
}
